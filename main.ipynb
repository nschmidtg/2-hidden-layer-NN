{
 "cells": [
  {
   "cell_type": "code",
   "execution_count": 1,
   "metadata": {},
   "outputs": [],
   "source": [
    "import numpy as np\n",
    "import pandas as pd\n",
    "import matplotlib.pyplot as plt\n",
    "from neural_network import *\n",
    "\n",
    "# read dataset\n",
    "dataset_path = 'sonar.all-data'\n",
    "# name the feature and target columns\n",
    "data = pd.read_csv(dataset_path, sep=\",\", names=np.append(np.arange(60),['Y']))"
   ]
  },
  {
   "cell_type": "code",
   "execution_count": 2,
   "metadata": {},
   "outputs": [],
   "source": [
    "# convert ir to dataframe\n",
    "trainset = pd.DataFrame(data)\n",
    "\n",
    "# transform Minerals in 0 and Rocks in 1\n",
    "trainset = trainset.replace('M',0)\n",
    "trainset = trainset.replace('R',1)"
   ]
  },
  {
   "cell_type": "code",
   "execution_count": 3,
   "metadata": {},
   "outputs": [],
   "source": [
    "# Initialize the network:\n",
    "# 60 features\n",
    "# 800 neurons per hidden layer\n",
    "# 2 categories (binary classification)\n",
    "network = NNetwork(60, 90, 2)\n",
    "# network = NNetwork(60, 512, 2)"
   ]
  },
  {
   "cell_type": "code",
   "execution_count": 4,
   "metadata": {},
   "outputs": [],
   "source": [
    "# train the network\n",
    "# trainset with features in the first 60 columns and the labels in the last one\n",
    "# 2000 epochs\n",
    "# 0.1 alpha (learning step in backpropagation)\n",
    "# n_samples = 207 rows (the whole dataset)\n",
    "\n",
    "# cost = network.train(trainset, 500, 0.01/4, trainset.shape[1])\n",
    "cost = network.train(trainset, 250, 0.1, 32)"
   ]
  },
  {
   "cell_type": "code",
   "execution_count": 5,
   "metadata": {},
   "outputs": [
    {
     "data": {
      "image/png": "[encoded data removed]",
      "text/plain": [
       "<Figure size 432x288 with 1 Axes>"
      ]
     },
     "metadata": {
      "needs_background": "light"
     },
     "output_type": "display_data"
    }
   ],
   "source": [
    "# Plot cost \n",
    "plt.plot(cost, 'r')\n",
    "plt.xlabel('# Iterations')\n",
    "plt.ylabel('Cost')\n",
    "plt.legend('Loss', loc='upper right')\n",
    "plt.show()"
   ]
  },
  {
   "cell_type": "code",
   "execution_count": 6,
   "metadata": {},
   "outputs": [
    {
     "name": "stdout",
     "output_type": "stream",
     "text": [
      "[1. 1. 0. 0. 0. 1. 0. 1. 0. 0. 1. 0. 0. 0. 0. 0. 1. 1. 1. 1. 0. 1. 1. 0.\n",
      " 1. 1. 0. 0. 0. 1. 0. 0. 0. 0. 0. 1. 1. 1. 0. 0. 0. 0. 1. 1. 1. 1. 1. 1.\n",
      " 1. 1. 1. 1. 0. 0. 0. 0. 0. 1. 1. 1. 1. 1. 1. 1. 1. 1. 1. 1. 0. 0. 0. 0.\n",
      " 0. 0. 1. 1. 1. 0. 0. 0. 1. 1. 0. 1. 1. 0. 1. 1. 0. 1. 1. 0. 0. 0. 0. 1.\n",
      " 0. 1. 0. 1. 0. 0. 0. 0. 1. 1. 1. 1. 1. 1. 1. 1. 1. 1. 1. 1. 1. 1. 0. 1.\n",
      " 1. 1. 1. 1. 1. 1. 1. 1. 1. 1. 1. 0. 0. 1. 1. 0. 1. 1. 1. 0. 1. 1. 1. 1.\n",
      " 1. 1. 1. 1. 0. 0. 1. 1. 1. 1. 0. 1. 1. 1. 1. 0. 0. 1. 1. 0. 0. 1. 1. 0.\n",
      " 1. 1. 0. 0. 0. 1. 1. 1. 1. 1. 0. 0. 1. 1. 1. 1. 1. 1. 1. 0. 0. 0. 0. 0.\n",
      " 0. 0. 1. 1. 0. 0. 0. 0. 0. 1. 0. 0. 0. 0. 0. 0.]\n"
     ]
    }
   ],
   "source": [
    "# load saved parameters\n",
    "params, cost = pickle.load(open('model', 'rb'))\n",
    "[w_1, b_1, w_2, b_2, w_3, b_3] = params\n",
    "\n",
    "# predict using the learned model\n",
    "prediction = np.array([])\n",
    "for i in np.arange(trainset.shape[0]):\n",
    "    prediction = np.append(prediction, network.predict(trainset.iloc[i], w_1, b_1, w_2, b_2, w_3, b_3)[0])\n",
    "print(prediction)"
   ]
  },
  {
   "cell_type": "code",
   "execution_count": 7,
   "metadata": {},
   "outputs": [
    {
     "name": "stdout",
     "output_type": "stream",
     "text": [
      "Accuracy 0.4375\n",
      "Precision 0.5154639175257731\n",
      "Recall 0.4166666666666667\n"
     ]
    }
   ],
   "source": [
    "TP = TN = FP = FN = 0\n",
    "for i in np.arange(len(prediction)):\n",
    "    TP += trainset[\"Y\"][i]==prediction[i] and trainset[\"Y\"][i] == 1\n",
    "    TN += trainset[\"Y\"][i]==prediction[i] and trainset[\"Y\"][i] == 0\n",
    "    FP += not(trainset[\"Y\"][i]==prediction[i]) and trainset[\"Y\"][i] == 1\n",
    "    FN += not(trainset[\"Y\"][i]==prediction[i]) and trainset[\"Y\"][i] == 0\n",
    "Accuracy = (TP + TN) / float(len(prediction))\n",
    "Precision = TP / float(TP + FP)\n",
    "Recall = TP / float(TP + FN)\n",
    "\n",
    "print(\"Accuracy\", Accuracy)\n",
    "print(\"Precision\", Precision)\n",
    "print(\"Recall\", Recall)"
   ]
  },
  {
   "cell_type": "code",
   "execution_count": null,
   "metadata": {},
   "outputs": [],
   "source": []
  }
 ],
 "metadata": {
  "kernelspec": {
   "display_name": "Python 3",
   "language": "python",
   "name": "python3"
  },
  "language_info": {
   "codemirror_mode": {
    "name": "ipython",
    "version": 3
   },
   "file_extension": ".py",
   "mimetype": "text/x-python",
   "name": "python",
   "nbconvert_exporter": "python",
   "pygments_lexer": "ipython3",
   "version": "3.8.3"
  }
 },
 "nbformat": 4,
 "nbformat_minor": 4
}
