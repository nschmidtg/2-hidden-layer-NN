{
 "cells": [
  {
   "cell_type": "code",
   "execution_count": 97,
   "metadata": {},
   "outputs": [],
   "source": [
    "import numpy as np\n",
    "import pandas as pd\n",
    "import matplotlib.pyplot as plt\n",
    "import pickle\n",
    "# from neural_network import NNetwork\n",
    "\n",
    "# read dataset\n",
    "dataset_path = 'sonar.all-data'\n",
    "# number of features\n",
    "n_features = 60\n",
    "# name the feature and target columns\n",
    "data = pd.read_csv(dataset_path, sep=\",\", names=np.append(np.arange(n_features),['Y']))"
   ]
  },
  {
   "cell_type": "code",
   "execution_count": 98,
   "metadata": {},
   "outputs": [],
   "source": [
    "# convert ir to dataframe\n",
    "trainset = pd.DataFrame(data)\n",
    "\n",
    "# transform Minerals in 0 and Rocks in 1\n",
    "trainset = trainset.replace('M',0)\n",
    "trainset = trainset.replace('R',1)"
   ]
  },
  {
   "cell_type": "code",
   "execution_count": 135,
   "metadata": {},
   "outputs": [],
   "source": [
    "import numpy as np\n",
    "from tqdm import tqdm\n",
    "import pickle\n",
    "import pandas as pd\n",
    "\n",
    "class NNetwork:\n",
    "    def __init__(self, n_input, hidden_layer_size):\n",
    "        self.n_input = n_input\n",
    "        self.hidden_layer_size = hidden_layer_size\n",
    "        self.n_cat = 1\n",
    "        \n",
    "        # initialize weights\n",
    "        self.w_1 = np.random.randn(self.hidden_layer_size, self.n_input)\n",
    "        self.w_2 = np.random.randn(self.n_cat, self.hidden_layer_size)\n",
    "\n",
    "        # initialize biases\n",
    "        self.b_1 = np.random.randn(self.hidden_layer_size, 1)\n",
    "        self.b_2 = np.random.randn(self.n_cat, 1)\n",
    "        \n",
    "    def train(self, trainset_i, n_epochs, alpha, n_samples):\n",
    "        \"\"\"\n",
    "        train a fully connected neural network using the specified train_set (dataframe)\n",
    "        \"\"\"\n",
    "        if (trainset_i).shape[1]-1 != self.n_input:\n",
    "            raise ValueError(u\"X_train size has to be the same as the Network inputs\")\n",
    "\n",
    "        i = 0\n",
    "        cost = np.zeros(n_epochs)\n",
    "\n",
    "        while i < n_epochs:            \n",
    "            subset = trainset_i.sample(n_samples)\n",
    "            dw1 = 0\n",
    "            db1 = 0\n",
    "            dw2 = 0\n",
    "            db2 = 0\n",
    "            for index, element in subset.iterrows():\n",
    "                \n",
    "                X_train = element[:-1]\n",
    "                Y_train = element[self.n_input]\n",
    "                dim1 = X_train.shape\n",
    "                \n",
    "                element = X_train.values.reshape((dim1[0], 1))\n",
    "             \n",
    "                z_1 = self.w_1.dot(element) + self.b_1    # input weight\n",
    "                a_1 = self.__relu(z_1)                   # pass through ReLU non-linearity          \n",
    "\n",
    "                # pass though the hidden layer 2\n",
    "                z_2 = self.w_2.dot(a_1) + self.b_2\n",
    "                # Activation function\n",
    "                a_2 = self.__sigmoid(z_2) # predict class probabilities with the softmax activation function\n",
    "                # Loss\n",
    "                Yh = a_2\n",
    "                \n",
    "                loss = self.__squared_loss(Yh, Y_train)\n",
    "                cost[i] += loss\n",
    "               \n",
    "                # derivative of the loss function w.r.t. output a_3\n",
    "                dz2 = Yh - Y_train\n",
    "                dw2 += np.dot(dz2, a_1.T)\n",
    "                db2 += np.dot(dz2, np.ones([dz2.shape[1],1]))\n",
    "                \n",
    "                dz1 = self.w_2.T * dz2 * self.__relu_derivative(z_1)\n",
    "                dw1 += np.dot(dz1, element.T)\n",
    "                db1 += np.dot(dz1, np.ones([dz1.shape[1],1]))\n",
    "\n",
    "            # Update the weight and biases\n",
    "            self.w_1 -= dw1/n_samples * alpha\n",
    "            self.b_1 -= db1/n_samples * alpha\n",
    "            self.w_2 -= dw2/n_samples * alpha\n",
    "            self.b_2 -= db2/n_samples * alpha\n",
    "\n",
    "            params = [self.w_1, self.b_1, self.w_2, self.b_2]\n",
    "\n",
    "            i += 1\n",
    "        to_save = [params, cost/float(n_samples)]\n",
    "    \n",
    "        with open('model', 'wb') as file:\n",
    "            pickle.dump(to_save, file)\n",
    "\n",
    "        return cost/float(n_samples), params\n",
    "    \n",
    "    def predict(self, element, w1, b1, w2, b2):\n",
    "        '''\n",
    "        Make predictions with trained filters/weights. \n",
    "        '''\n",
    "        element = element[:-1]\n",
    "        fc = element.values.reshape((n_features, 1)) # flatten pooled layer\n",
    "\n",
    "        z1 = w1.dot(fc) + b1 # first dense layer\n",
    "        a1 = self.__relu(z1) # pass through ReLU non-linearity\n",
    "\n",
    "        z2 = w2.dot(a1) + b2 # first dense layer\n",
    "        a2 = self.__sigmoid(z2) # pass through ReLU non-linearity\n",
    "        \n",
    "        # print(a2)\n",
    "        probs = a2\n",
    "        return (np.argmax(probs), np.max(probs))\n",
    "    \n",
    "    #### private methods\n",
    "    \n",
    "    def __squared_loss(self, probs, labels):\n",
    "        return np.sum((probs - labels)**2)*0.5\n",
    "    \n",
    "    def __relu_derivative(self, x):\n",
    "        x[x<=0] = 0\n",
    "        x[x>0] = 1\n",
    "        return x\n",
    "    \n",
    "    def __relu(self, X):\n",
    "        return np.maximum(0, X)\n",
    "\n",
    "    def __sigmoid(self, Z):\n",
    "        return 1/(1+np.exp(-Z))\n",
    "    \n",
    "    def __dev_sigmoid(self, Z):\n",
    "        s = 1/(1+np.exp(-Z))\n",
    "        dZ = s * (1 - s)\n",
    "        return dZ"
   ]
  },
  {
   "cell_type": "code",
   "execution_count": 136,
   "metadata": {},
   "outputs": [],
   "source": [
    "# Initialize the network:\n",
    "n_neurons_per_hidden_layer = 60\n",
    "network = NNetwork(n_features, n_neurons_per_hidden_layer)"
   ]
  },
  {
   "cell_type": "code",
   "execution_count": 163,
   "metadata": {},
   "outputs": [],
   "source": [
    "# train the network\n",
    "# trainset with features in the first 60 columns and the labels in the last one\n",
    "n_epoch = 5000\n",
    "alpha = 1e-3\n",
    "bach_size = 207\n",
    "\n",
    "cost, params = network.train(trainset, n_epoch, alpha, bach_size)"
   ]
  },
  {
   "cell_type": "code",
   "execution_count": 164,
   "metadata": {},
   "outputs": [
    {
     "data": {
      "image/png": "[encoded data removed]",
      "text/plain": [
       "<Figure size 432x288 with 1 Axes>"
      ]
     },
     "metadata": {
      "needs_background": "light"
     },
     "output_type": "display_data"
    }
   ],
   "source": [
    "# Plot cost \n",
    "plt.plot(cost, 'r')\n",
    "plt.xlabel('# Iterations')\n",
    "plt.ylabel('Cost')\n",
    "plt.legend('Loss', loc='upper right')\n",
    "plt.show()"
   ]
  },
  {
   "cell_type": "code",
   "execution_count": 165,
   "metadata": {},
   "outputs": [
    {
     "name": "stdout",
     "output_type": "stream",
     "text": [
      "[1. 1. 0. 0. 0. 1. 0. 0. 0. 1. 1. 1. 1. 1. 1. 1. 1. 1. 1. 0. 0. 1. 1. 1.\n",
      " 1. 1. 0. 1. 1. 0. 1. 1. 1. 0. 1. 0. 1. 1. 1. 1. 1. 1. 1. 1. 0. 1. 1. 0.\n",
      " 1. 0. 1. 1. 1. 1. 1. 1. 1. 1. 1. 1. 1. 1. 1. 1. 1. 1. 1. 1. 1. 1. 1. 1.\n",
      " 1. 0. 1. 1. 1. 1. 1. 1. 1. 1. 1. 1. 1. 1. 1. 1. 1. 1. 1. 1. 1. 1. 1. 1.\n",
      " 1. 1. 0. 1. 0. 0. 0. 0. 0. 0. 1. 1. 0. 0. 0. 0. 0. 0. 0. 0. 0. 0. 0. 0.\n",
      " 0. 0. 0. 0. 0. 0. 0. 0. 0. 0. 0. 0. 0. 0. 0. 0. 0. 0. 0. 1. 0. 0. 0. 0.\n",
      " 0. 0. 0. 0. 0. 0. 0. 1. 0. 0. 0. 0. 0. 0. 0. 1. 0. 0. 0. 0. 0. 1. 0. 0.\n",
      " 0. 0. 0. 0. 0. 0. 0. 0. 0. 1. 1. 0. 0. 0. 0. 0. 0. 0. 0. 0. 0. 0. 0. 0.\n",
      " 0. 0. 0. 0. 0. 0. 0. 0. 0. 0. 0. 0. 0. 0. 0. 0.]\n"
     ]
    }
   ],
   "source": [
    "# load saved parameters\n",
    "# params, cost = pickle.load(open('model', 'rb'))\n",
    "[w_1, b_1, w_2, b_2] = params\n",
    "\n",
    "\n",
    "# predict using the learned model\n",
    "prediction = np.array([])\n",
    "for i in np.arange(trainset.shape[0]):\n",
    "    prediction = np.append(prediction, network.predict(trainset.iloc[i], w_1, b_1, w_2, b_2)[1])\n",
    "    # break\n",
    "print(np.round(prediction))\n",
    "prediction = np.round(prediction)"
   ]
  },
  {
   "cell_type": "code",
   "execution_count": 166,
   "metadata": {},
   "outputs": [],
   "source": [
    "# print(w_1, b_1, w_2, b_2)"
   ]
  },
  {
   "cell_type": "code",
   "execution_count": 167,
   "metadata": {},
   "outputs": [
    {
     "name": "stdout",
     "output_type": "stream",
     "text": [
      "Accuracy 0.875\n",
      "Precision 0.8350515463917526\n",
      "Recall 0.8901098901098901\n"
     ]
    }
   ],
   "source": [
    "TP = TN = FP = FN = 0\n",
    "for i in np.arange(len(prediction)):\n",
    "    TP += trainset[\"Y\"][i]==prediction[i] and trainset[\"Y\"][i] == 1\n",
    "    TN += trainset[\"Y\"][i]==prediction[i] and trainset[\"Y\"][i] == 0\n",
    "    FP += not(trainset[\"Y\"][i]==prediction[i]) and trainset[\"Y\"][i] == 1\n",
    "    FN += not(trainset[\"Y\"][i]==prediction[i]) and trainset[\"Y\"][i] == 0\n",
    "Accuracy = (TP + TN) / float(len(prediction))\n",
    "Precision = TP / float(TP + FP)\n",
    "Recall = TP / float(TP + FN)\n",
    "\n",
    "print(\"Accuracy\", Accuracy)\n",
    "print(\"Precision\", Precision)\n",
    "print(\"Recall\", Recall)"
   ]
  },
  {
   "cell_type": "code",
   "execution_count": 168,
   "metadata": {},
   "outputs": [
    {
     "data": {
      "text/plain": [
       "array([1, 1, 1, 1, 1, 1, 1, 1, 1, 1, 1, 1, 1, 1, 1, 1, 1, 1, 1, 1, 1, 1,\n",
       "       1, 1, 1, 1, 1, 1, 1, 1, 1, 1, 1, 1, 1, 1, 1, 1, 1, 1, 1, 1, 1, 1,\n",
       "       1, 1, 1, 1, 1, 1, 1, 1, 1, 1, 1, 1, 1, 1, 1, 1, 1, 1, 1, 1, 1, 1,\n",
       "       1, 1, 1, 1, 1, 1, 1, 1, 1, 1, 1, 1, 1, 1, 1, 1, 1, 1, 1, 1, 1, 1,\n",
       "       1, 1, 1, 1, 1, 1, 1, 1, 1, 0, 0, 0, 0, 0, 0, 0, 0, 0, 0, 0, 0, 0,\n",
       "       0, 0, 0, 0, 0, 0, 0, 0, 0, 0, 0, 0, 0, 0, 0, 0, 0, 0, 0, 0, 0, 0,\n",
       "       0, 0, 0, 0, 0, 0, 0, 0, 0, 0, 0, 0, 0, 0, 0, 0, 0, 0, 0, 0, 0, 0,\n",
       "       0, 0, 0, 0, 0, 0, 0, 0, 0, 0, 0, 0, 0, 0, 0, 0, 0, 0, 0, 0, 0, 0,\n",
       "       0, 0, 0, 0, 0, 0, 0, 0, 0, 0, 0, 0, 0, 0, 0, 0, 0, 0, 0, 0, 0, 0,\n",
       "       0, 0, 0, 0, 0, 0, 0, 0, 0, 0])"
      ]
     },
     "execution_count": 168,
     "metadata": {},
     "output_type": "execute_result"
    }
   ],
   "source": [
    "np.array(trainset[\"Y\"])"
   ]
  },
  {
   "cell_type": "code",
   "execution_count": null,
   "metadata": {},
   "outputs": [],
   "source": []
  },
  {
   "cell_type": "code",
   "execution_count": null,
   "metadata": {},
   "outputs": [],
   "source": []
  }
 ],
 "metadata": {
  "kernelspec": {
   "display_name": "Python 3",
   "language": "python",
   "name": "python3"
  },
  "language_info": {
   "codemirror_mode": {
    "name": "ipython",
    "version": 3
   },
   "file_extension": ".py",
   "mimetype": "text/x-python",
   "name": "python",
   "nbconvert_exporter": "python",
   "pygments_lexer": "ipython3",
   "version": "3.8.3"
  }
 },
 "nbformat": 4,
 "nbformat_minor": 4
}
